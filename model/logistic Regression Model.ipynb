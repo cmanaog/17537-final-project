{
 "cells": [
  {
   "cell_type": "code",
   "execution_count": 1,
   "metadata": {},
   "outputs": [],
   "source": [
    "import numpy as np\n",
    "import pandas as pd\n",
    "import matplotlib.pyplot as plt\n",
    "from sklearn.linear_model import LogisticRegression\n",
    "from sklearn.model_selection import cross_val_score, train_test_split\n",
    "from sklearn import metrics"
   ]
  },
  {
   "cell_type": "markdown",
   "metadata": {},
   "source": [
    "### Read in data"
   ]
  },
  {
   "cell_type": "code",
   "execution_count": 2,
   "metadata": {},
   "outputs": [
    {
     "name": "stderr",
     "output_type": "stream",
     "text": [
      "C:\\Python36\\lib\\site-packages\\numpy\\lib\\arraysetops.py:522: FutureWarning: elementwise comparison failed; returning scalar instead, but in the future will perform elementwise comparison\n",
      "  mask |= (ar1 == a)\n",
      "C:\\Python36\\lib\\site-packages\\IPython\\core\\interactiveshell.py:3044: DtypeWarning: Columns (22,23,24) have mixed types. Specify dtype option on import or set low_memory=False.\n",
      "  interactivity=interactivity, compiler=compiler, result=result)\n"
     ]
    }
   ],
   "source": [
    "train = pd.read_csv(\"train.csv\", index_col = 0).drop([\"action_taken_name\",\n",
    "                                                      \"agency_name\",\n",
    "                                                      \"state_name\",\n",
    "                                                     \"as_of_year\",\n",
    "                                                     \"sequence_number\"], axis = 1)\n",
    "test = pd.read_csv(\"test.csv\", index_col = 0).drop([\"action_taken_name\",\n",
    "                                                    \"agency_name\",\n",
    "                                                    \"state_name\",\n",
    "                                                   \"as_of_year\",\n",
    "                                                   \"sequence_number\"], axis = 1)"
   ]
  },
  {
   "cell_type": "markdown",
   "metadata": {},
   "source": [
    "### Data Processing and Manipulation"
   ]
  },
  {
   "cell_type": "code",
   "execution_count": 3,
   "metadata": {},
   "outputs": [],
   "source": [
    "cats = [\"state_abbr\", \"purchaser_type_name\", \"property_type_name\", \"preapproval_name\",\n",
    "        \"owner_occupancy_name\", \"msamd_name\", \"loan_type_name\", \"loan_purpose_name\",\n",
    "        \"lien_status_name\", \"hoepa_status_name\", \"denial_reason_name_1\",\"denial_reason_name_2\",\n",
    "        \"county_name\", \"co_applicant_sex_name\", \"co_applicant_race_name_1\",\n",
    "        \"co_applicant_ethnicity_name\", \"applicant_sex_name\", \"applicant_race_name_1\",\n",
    "        \"applicant_ethnicity_name\", \"agency_abbr\", \"approved\", \"denial_reason_name_3\"]"
   ]
  },
  {
   "cell_type": "code",
   "execution_count": 6,
   "metadata": {},
   "outputs": [
    {
     "data": {
      "text/plain": [
       "['tract_to_msamd_income',\n",
       " 'rate_spread',\n",
       " 'population',\n",
       " 'minority_population',\n",
       " 'number_of_owner_occupied_units',\n",
       " 'number_of_1_to_4_family_units',\n",
       " 'loan_amount_000s',\n",
       " 'hud_median_family_income',\n",
       " 'applicant_income_000s',\n",
       " 'sequence_number',\n",
       " 'census_tract_number',\n",
       " 'as_of_year']"
      ]
     },
     "execution_count": 6,
     "metadata": {},
     "output_type": "execute_result"
    }
   ],
   "source": [
    "temp = [elem for elem in train.columns if elem not in cats]\n",
    "all_data = pd.concat([train, test])\n",
    "temp"
   ]
  },
  {
   "cell_type": "code",
   "execution_count": 25,
   "metadata": {},
   "outputs": [],
   "source": [
    "# min-max normalizes a column cat of dataset df\n",
    "# returns that column as pandas series\n",
    "def normalize(df, cat):\n",
    "    xmin = df[cat].min()\n",
    "    xmax = df[cat].max()\n",
    "    return (df[cat] - xmin) / (xmax - xmin)"
   ]
  },
  {
   "cell_type": "code",
   "execution_count": 26,
   "metadata": {},
   "outputs": [],
   "source": [
    "# Data manipulation\n",
    "\n",
    "all_data = pd.concat([train, test])\n",
    "\n",
    "cats = [\"state_abbr\", \"purchaser_type_name\", \"property_type_name\", \"preapproval_name\",\n",
    "        \"owner_occupancy_name\", \"msamd_name\", \"loan_type_name\", \"loan_purpose_name\",\n",
    "        \"lien_status_name\", \"hoepa_status_name\", \"denial_reason_name_1\",\"denial_reason_name_2\",\n",
    "        \"county_name\", \"co_applicant_sex_name\", \"co_applicant_race_name_1\",\n",
    "        \"co_applicant_ethnicity_name\", \"applicant_sex_name\", \"applicant_race_name_1\",\n",
    "        \"applicant_ethnicity_name\", \"agency_abbr\", \"approved\", \"denial_reason_name_3\"]\n",
    "\n",
    "# normalizing numerical columns\n",
    "num_cols = [elem for elem in all_data.columns if elem not in cats]\n",
    "for col in num_cols:\n",
    "    all_data[col] = normalize(all_data, col)\n",
    "\n",
    "# Replacing categorical strings with integers\n",
    "for cat in cats:\n",
    "    all_data[cat] = pd.Categorical(all_data[cat]).codes\n",
    "\n",
    "# Filling in all numerical NAs with -1\n",
    "all_data = all_data.fillna(-1)\n",
    "\n",
    "\n",
    "x = all_data.drop([\"approved\"], axis = 1)\n",
    "y = np.ravel(all_data[\"approved\"])"
   ]
  },
  {
   "cell_type": "markdown",
   "metadata": {},
   "source": [
    "### Model"
   ]
  },
  {
   "cell_type": "code",
   "execution_count": 27,
   "metadata": {},
   "outputs": [
    {
     "name": "stderr",
     "output_type": "stream",
     "text": [
      "C:\\Python36\\lib\\site-packages\\sklearn\\linear_model\\logistic.py:432: FutureWarning: Default solver will be changed to 'lbfgs' in 0.22. Specify a solver to silence this warning.\n",
      "  FutureWarning)\n"
     ]
    },
    {
     "data": {
      "text/plain": [
       "LogisticRegression(C=1.0, class_weight=None, dual=False, fit_intercept=True,\n",
       "          intercept_scaling=1, max_iter=100, multi_class='warn',\n",
       "          n_jobs=None, penalty='l2', random_state=None, solver='warn',\n",
       "          tol=0.0001, verbose=0, warm_start=False)"
      ]
     },
     "execution_count": 27,
     "metadata": {},
     "output_type": "execute_result"
    }
   ],
   "source": [
    "x_train, x_test, y_train, y_test = train_test_split(x, y, test_size=0.3, random_state=0)\n",
    "model = LogisticRegression()\n",
    "model.fit(x_train, y_train)"
   ]
  },
  {
   "cell_type": "code",
   "execution_count": 28,
   "metadata": {},
   "outputs": [
    {
     "name": "stdout",
     "output_type": "stream",
     "text": [
      "0.9371050263152746\n",
      "0.8058902030221805\n"
     ]
    }
   ],
   "source": [
    "pred = model.predict(x_test)\n",
    "print(metrics.accuracy_score(y_test, pred))\n",
    "print(y_test.mean())"
   ]
  },
  {
   "cell_type": "code",
   "execution_count": 29,
   "metadata": {},
   "outputs": [],
   "source": [
    "# class probabilities\n",
    "probs = model.predict_proba(x_test)"
   ]
  },
  {
   "cell_type": "code",
   "execution_count": 30,
   "metadata": {},
   "outputs": [
    {
     "data": {
      "image/png": "[encoded data removed]",
      "text/plain": [
       "<Figure size 432x288 with 1 Axes>"
      ]
     },
     "metadata": {
      "needs_background": "light"
     },
     "output_type": "display_data"
    }
   ],
   "source": [
    "num_bins = 10\n",
    "\n",
    "n, bins, patches = plt.hist(probs[:, 0], num_bins, facecolor='blue', alpha=0.5)\n",
    "plt.xlabel('Probability of Class 0')\n",
    "plt.ylabel('Count')\n",
    "plt.title('Distribution of Probability 0 Class')\n",
    "\n",
    "plt.show()"
   ]
  },
  {
   "cell_type": "markdown",
   "metadata": {},
   "source": [
    "### Cross-Validation"
   ]
  },
  {
   "cell_type": "code",
   "execution_count": 31,
   "metadata": {},
   "outputs": [
    {
     "name": "stderr",
     "output_type": "stream",
     "text": [
      "C:\\Python36\\lib\\site-packages\\sklearn\\linear_model\\logistic.py:432: FutureWarning: Default solver will be changed to 'lbfgs' in 0.22. Specify a solver to silence this warning.\n",
      "  FutureWarning)\n",
      "C:\\Python36\\lib\\site-packages\\sklearn\\linear_model\\logistic.py:432: FutureWarning: Default solver will be changed to 'lbfgs' in 0.22. Specify a solver to silence this warning.\n",
      "  FutureWarning)\n",
      "C:\\Python36\\lib\\site-packages\\sklearn\\linear_model\\logistic.py:432: FutureWarning: Default solver will be changed to 'lbfgs' in 0.22. Specify a solver to silence this warning.\n",
      "  FutureWarning)\n",
      "C:\\Python36\\lib\\site-packages\\sklearn\\linear_model\\logistic.py:432: FutureWarning: Default solver will be changed to 'lbfgs' in 0.22. Specify a solver to silence this warning.\n",
      "  FutureWarning)\n",
      "C:\\Python36\\lib\\site-packages\\sklearn\\linear_model\\logistic.py:432: FutureWarning: Default solver will be changed to 'lbfgs' in 0.22. Specify a solver to silence this warning.\n",
      "  FutureWarning)\n"
     ]
    },
    {
     "name": "stdout",
     "output_type": "stream",
     "text": [
      "[0.93671131 0.93543525 0.93589867 0.9352628  0.93769072]\n"
     ]
    }
   ],
   "source": [
    "scores = cross_val_score(LogisticRegression(), x, y, cv=5, scoring='accuracy')\n",
    "print(scores)"
   ]
  },
  {
   "cell_type": "code",
   "execution_count": null,
   "metadata": {},
   "outputs": [],
   "source": []
  }
 ],
 "metadata": {
  "kernelspec": {
   "display_name": "Python 3",
   "language": "python",
   "name": "python3"
  },
  "language_info": {
   "codemirror_mode": {
    "name": "ipython",
    "version": 3
   },
   "file_extension": ".py",
   "mimetype": "text/x-python",
   "name": "python",
   "nbconvert_exporter": "python",
   "pygments_lexer": "ipython3",
   "version": "3.6.6"
  }
 },
 "nbformat": 4,
 "nbformat_minor": 2
}
