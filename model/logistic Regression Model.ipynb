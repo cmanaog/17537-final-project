{
 "cells": [
  {
   "cell_type": "code",
   "execution_count": 1,
   "metadata": {},
   "outputs": [],
   "source": [
    "import numpy as np\n",
    "import pandas as pd\n",
    "import matplotlib.pyplot as plt\n",
    "from sklearn.linear_model import LogisticRegression\n",
    "from sklearn.model_selection import cross_val_score, train_test_split\n",
    "from sklearn import metrics"
   ]
  },
  {
   "cell_type": "markdown",
   "metadata": {},
   "source": [
    "### Read in data"
   ]
  },
  {
   "cell_type": "code",
   "execution_count": 2,
   "metadata": {},
   "outputs": [
    {
     "name": "stderr",
     "output_type": "stream",
     "text": [
      "C:\\Python36\\lib\\site-packages\\numpy\\lib\\arraysetops.py:522: FutureWarning: elementwise comparison failed; returning scalar instead, but in the future will perform elementwise comparison\n",
      "  mask |= (ar1 == a)\n",
      "C:\\Python36\\lib\\site-packages\\IPython\\core\\interactiveshell.py:3044: DtypeWarning: Columns (22,23,24) have mixed types. Specify dtype option on import or set low_memory=False.\n",
      "  interactivity=interactivity, compiler=compiler, result=result)\n"
     ]
    }
   ],
   "source": [
    "train = pd.read_csv(\"train.csv\", index_col = 0).drop([\"action_taken_name\",\n",
    "                                                      \"agency_name\",\n",
    "                                                      \"state_name\",\n",
    "                                                     \"as_of_year\",\n",
    "                                                     \"sequence_number\"], axis = 1)\n",
    "test = pd.read_csv(\"test.csv\", index_col = 0).drop([\"action_taken_name\",\n",
    "                                                    \"agency_name\",\n",
    "                                                    \"state_name\",\n",
    "                                                   \"as_of_year\",\n",
    "                                                   \"sequence_number\"], axis = 1)"
   ]
  },
  {
   "cell_type": "markdown",
   "metadata": {},
   "source": [
    "### Data Processing and Manipulation"
   ]
  },
  {
   "cell_type": "code",
   "execution_count": 3,
   "metadata": {},
   "outputs": [],
   "source": [
    "cats = [\"state_abbr\", \"purchaser_type_name\", \"property_type_name\", \"preapproval_name\",\n",
    "        \"owner_occupancy_name\", \"msamd_name\", \"loan_type_name\", \"loan_purpose_name\",\n",
    "        \"lien_status_name\", \"hoepa_status_name\", \"denial_reason_name_1\",\"denial_reason_name_2\",\n",
    "        \"county_name\", \"co_applicant_sex_name\", \"co_applicant_race_name_1\",\n",
    "        \"co_applicant_ethnicity_name\", \"applicant_sex_name\", \"applicant_race_name_1\",\n",
    "        \"applicant_ethnicity_name\", \"agency_abbr\", \"approved\", \"denial_reason_name_3\"]"
   ]
  },
  {
   "cell_type": "code",
   "execution_count": 4,
   "metadata": {},
   "outputs": [],
   "source": [
    "# min-max normalizes a column cat of dataset df\n",
    "# returns that column as pandas series\n",
    "def normalize(df, cat):\n",
    "    xmin = df[cat].min()\n",
    "    xmax = df[cat].max()\n",
    "    return (df[cat] - xmin) / (xmax - xmin)"
   ]
  },
  {
   "cell_type": "code",
   "execution_count": 5,
   "metadata": {},
   "outputs": [],
   "source": [
    "# Data manipulation\n",
    "\n",
    "all_data = pd.concat([train, test])\n",
    "\n",
    "cats = [\"state_abbr\", \"purchaser_type_name\", \"property_type_name\", \"preapproval_name\",\n",
    "        \"owner_occupancy_name\", \"msamd_name\", \"loan_type_name\", \"loan_purpose_name\",\n",
    "        \"lien_status_name\", \"hoepa_status_name\", \"denial_reason_name_1\",\"denial_reason_name_2\",\n",
    "        \"county_name\", \"co_applicant_sex_name\", \"co_applicant_race_name_1\",\n",
    "        \"co_applicant_ethnicity_name\", \"applicant_sex_name\", \"applicant_race_name_1\",\n",
    "        \"applicant_ethnicity_name\", \"agency_abbr\", \"approved\", \"denial_reason_name_3\"]\n",
    "\n",
    "# normalizing numerical columns\n",
    "num_cols = [elem for elem in all_data.columns if elem not in cats]\n",
    "for col in num_cols:\n",
    "    all_data[col] = normalize(all_data, col)\n",
    "\n",
    "# Replacing categorical strings with integers\n",
    "for cat in cats:\n",
    "    all_data[cat] = pd.Categorical(all_data[cat]).codes\n",
    "\n",
    "# Filling in all numerical NAs with -1\n",
    "all_data = all_data.fillna(-1)\n",
    "\n",
    "\n",
    "x = all_data.drop([\"approved\"], axis = 1)\n",
    "y = np.ravel(all_data[\"approved\"])"
   ]
  },
  {
   "cell_type": "markdown",
   "metadata": {},
   "source": [
    "### Model"
   ]
  },
  {
   "cell_type": "code",
   "execution_count": 7,
   "metadata": {},
   "outputs": [
    {
     "name": "stderr",
     "output_type": "stream",
     "text": [
      "C:\\Python36\\lib\\site-packages\\sklearn\\linear_model\\logistic.py:432: FutureWarning: Default solver will be changed to 'lbfgs' in 0.22. Specify a solver to silence this warning.\n",
      "  FutureWarning)\n"
     ]
    },
    {
     "data": {
      "text/plain": [
       "LogisticRegression(C=1.0, class_weight=None, dual=False, fit_intercept=True,\n",
       "          intercept_scaling=1, max_iter=100, multi_class='warn',\n",
       "          n_jobs=None, penalty='l2', random_state=None, solver='warn',\n",
       "          tol=0.0001, verbose=0, warm_start=False)"
      ]
     },
     "execution_count": 7,
     "metadata": {},
     "output_type": "execute_result"
    }
   ],
   "source": [
    "x_train, x_test, y_train, y_test = train_test_split(x, y, test_size=0.3, random_state=0)\n",
    "model = LogisticRegression()\n",
    "model.fit(x_train, y_train)"
   ]
  },
  {
   "cell_type": "code",
   "execution_count": 8,
   "metadata": {},
   "outputs": [
    {
     "name": "stdout",
     "output_type": "stream",
     "text": [
      "Accuracy: 0.937308\n",
      "Proportion of 1-class: 0.805890\n",
      "F1 Score: 0.962222\n"
     ]
    }
   ],
   "source": [
    "pred = model.predict(x_test)\n",
    "print(\"Accuracy: %f\" % metrics.accuracy_score(y_test, pred))\n",
    "print(\"Proportion of 1-class: %f\" % y_test.mean())\n",
    "print(\"F1 Score: %f\" % metrics.f1_score(y_test, pred))"
   ]
  },
  {
   "cell_type": "code",
   "execution_count": 27,
   "metadata": {},
   "outputs": [
    {
     "data": {
      "image/png": "[encoded data removed]",
      "text/plain": [
       "<Figure size 432x288 with 1 Axes>"
      ]
     },
     "metadata": {
      "needs_background": "light"
     },
     "output_type": "display_data"
    }
   ],
   "source": [
    "num_bins = 10000\n",
    "\n",
    "n, bins, patches = plt.hist(all_data[\"loan_amount_000s\"], num_bins, facecolor='blue', alpha=0.5)\n",
    "plt.xlim(0, 0.0025)\n",
    "plt.xlabel('Probability of Class 0')\n",
    "plt.ylabel('Count')\n",
    "plt.title('Distribution of Probability 0 Class')\n",
    "\n",
    "plt.show()"
   ]
  },
  {
   "cell_type": "code",
   "execution_count": null,
   "metadata": {},
   "outputs": [],
   "source": [
    "def calc_dem_parity():\n",
    "    return"
   ]
  },
  {
   "cell_type": "code",
   "execution_count": 12,
   "metadata": {},
   "outputs": [],
   "source": [
    "test_new = x_test.copy(deep = True)\n",
    "test_new[\"approved\"] = y_test\n",
    "test_new[\"pred\"] = pred"
   ]
  },
  {
   "cell_type": "code",
   "execution_count": 14,
   "metadata": {},
   "outputs": [
    {
     "data": {
      "text/html": [
       "<div>\n",
       "<style scoped>\n",
       "    .dataframe tbody tr th:only-of-type {\n",
       "        vertical-align: middle;\n",
       "    }\n",
       "\n",
       "    .dataframe tbody tr th {\n",
       "        vertical-align: top;\n",
       "    }\n",
       "\n",
       "    .dataframe thead th {\n",
       "        text-align: right;\n",
       "    }\n",
       "</style>\n",
       "<table border=\"1\" class=\"dataframe\">\n",
       "  <thead>\n",
       "    <tr style=\"text-align: right;\">\n",
       "      <th></th>\n",
       "      <th>tract_to_msamd_income</th>\n",
       "      <th>rate_spread</th>\n",
       "      <th>population</th>\n",
       "      <th>minority_population</th>\n",
       "      <th>number_of_owner_occupied_units</th>\n",
       "      <th>number_of_1_to_4_family_units</th>\n",
       "      <th>loan_amount_000s</th>\n",
       "      <th>hud_median_family_income</th>\n",
       "      <th>applicant_income_000s</th>\n",
       "      <th>state_abbr</th>\n",
       "      <th>...</th>\n",
       "      <th>co_applicant_sex_name</th>\n",
       "      <th>co_applicant_race_name_1</th>\n",
       "      <th>co_applicant_ethnicity_name</th>\n",
       "      <th>census_tract_number</th>\n",
       "      <th>applicant_sex_name</th>\n",
       "      <th>applicant_race_name_1</th>\n",
       "      <th>applicant_ethnicity_name</th>\n",
       "      <th>agency_abbr</th>\n",
       "      <th>approved</th>\n",
       "      <th>pred</th>\n",
       "    </tr>\n",
       "  </thead>\n",
       "  <tbody>\n",
       "    <tr>\n",
       "      <th>1411738</th>\n",
       "      <td>0.268686</td>\n",
       "      <td>-1.0</td>\n",
       "      <td>0.142886</td>\n",
       "      <td>0.2701</td>\n",
       "      <td>0.097752</td>\n",
       "      <td>0.109251</td>\n",
       "      <td>0.000271</td>\n",
       "      <td>0.435609</td>\n",
       "      <td>0.000064</td>\n",
       "      <td>3</td>\n",
       "      <td>...</td>\n",
       "      <td>2</td>\n",
       "      <td>4</td>\n",
       "      <td>2</td>\n",
       "      <td>0.050511</td>\n",
       "      <td>1</td>\n",
       "      <td>4</td>\n",
       "      <td>0</td>\n",
       "      <td>0</td>\n",
       "      <td>0</td>\n",
       "      <td>0</td>\n",
       "    </tr>\n",
       "    <tr>\n",
       "      <th>1626145</th>\n",
       "      <td>0.210712</td>\n",
       "      <td>-1.0</td>\n",
       "      <td>0.132721</td>\n",
       "      <td>0.2611</td>\n",
       "      <td>0.104409</td>\n",
       "      <td>0.104368</td>\n",
       "      <td>0.000266</td>\n",
       "      <td>0.369058</td>\n",
       "      <td>0.000059</td>\n",
       "      <td>18</td>\n",
       "      <td>...</td>\n",
       "      <td>2</td>\n",
       "      <td>4</td>\n",
       "      <td>2</td>\n",
       "      <td>0.002103</td>\n",
       "      <td>1</td>\n",
       "      <td>4</td>\n",
       "      <td>1</td>\n",
       "      <td>3</td>\n",
       "      <td>0</td>\n",
       "      <td>0</td>\n",
       "    </tr>\n",
       "    <tr>\n",
       "      <th>1962572</th>\n",
       "      <td>0.053520</td>\n",
       "      <td>-1.0</td>\n",
       "      <td>0.041162</td>\n",
       "      <td>0.9124</td>\n",
       "      <td>0.011573</td>\n",
       "      <td>0.030680</td>\n",
       "      <td>0.000129</td>\n",
       "      <td>0.455488</td>\n",
       "      <td>0.000038</td>\n",
       "      <td>34</td>\n",
       "      <td>...</td>\n",
       "      <td>2</td>\n",
       "      <td>4</td>\n",
       "      <td>2</td>\n",
       "      <td>0.007801</td>\n",
       "      <td>1</td>\n",
       "      <td>4</td>\n",
       "      <td>0</td>\n",
       "      <td>4</td>\n",
       "      <td>0</td>\n",
       "      <td>1</td>\n",
       "    </tr>\n",
       "    <tr>\n",
       "      <th>3110779</th>\n",
       "      <td>0.221274</td>\n",
       "      <td>-1.0</td>\n",
       "      <td>0.057236</td>\n",
       "      <td>0.0503</td>\n",
       "      <td>0.055302</td>\n",
       "      <td>0.145760</td>\n",
       "      <td>0.000545</td>\n",
       "      <td>0.403630</td>\n",
       "      <td>0.000398</td>\n",
       "      <td>34</td>\n",
       "      <td>...</td>\n",
       "      <td>2</td>\n",
       "      <td>4</td>\n",
       "      <td>2</td>\n",
       "      <td>0.080208</td>\n",
       "      <td>0</td>\n",
       "      <td>4</td>\n",
       "      <td>1</td>\n",
       "      <td>5</td>\n",
       "      <td>1</td>\n",
       "      <td>1</td>\n",
       "    </tr>\n",
       "    <tr>\n",
       "      <th>136847</th>\n",
       "      <td>0.200800</td>\n",
       "      <td>-1.0</td>\n",
       "      <td>0.058946</td>\n",
       "      <td>0.5583</td>\n",
       "      <td>0.041170</td>\n",
       "      <td>0.038754</td>\n",
       "      <td>0.001052</td>\n",
       "      <td>0.624028</td>\n",
       "      <td>0.000162</td>\n",
       "      <td>4</td>\n",
       "      <td>...</td>\n",
       "      <td>2</td>\n",
       "      <td>4</td>\n",
       "      <td>2</td>\n",
       "      <td>0.075211</td>\n",
       "      <td>0</td>\n",
       "      <td>4</td>\n",
       "      <td>1</td>\n",
       "      <td>4</td>\n",
       "      <td>1</td>\n",
       "      <td>1</td>\n",
       "    </tr>\n",
       "  </tbody>\n",
       "</table>\n",
       "<p>5 rows × 33 columns</p>\n",
       "</div>"
      ],
      "text/plain": [
       "         tract_to_msamd_income  rate_spread  population  minority_population  \\\n",
       "1411738               0.268686         -1.0    0.142886               0.2701   \n",
       "1626145               0.210712         -1.0    0.132721               0.2611   \n",
       "1962572               0.053520         -1.0    0.041162               0.9124   \n",
       "3110779               0.221274         -1.0    0.057236               0.0503   \n",
       "136847                0.200800         -1.0    0.058946               0.5583   \n",
       "\n",
       "         number_of_owner_occupied_units  number_of_1_to_4_family_units  \\\n",
       "1411738                        0.097752                       0.109251   \n",
       "1626145                        0.104409                       0.104368   \n",
       "1962572                        0.011573                       0.030680   \n",
       "3110779                        0.055302                       0.145760   \n",
       "136847                         0.041170                       0.038754   \n",
       "\n",
       "         loan_amount_000s  hud_median_family_income  applicant_income_000s  \\\n",
       "1411738          0.000271                  0.435609               0.000064   \n",
       "1626145          0.000266                  0.369058               0.000059   \n",
       "1962572          0.000129                  0.455488               0.000038   \n",
       "3110779          0.000545                  0.403630               0.000398   \n",
       "136847           0.001052                  0.624028               0.000162   \n",
       "\n",
       "         state_abbr  ...   co_applicant_sex_name  co_applicant_race_name_1  \\\n",
       "1411738           3  ...                       2                         4   \n",
       "1626145          18  ...                       2                         4   \n",
       "1962572          34  ...                       2                         4   \n",
       "3110779          34  ...                       2                         4   \n",
       "136847            4  ...                       2                         4   \n",
       "\n",
       "         co_applicant_ethnicity_name  census_tract_number  applicant_sex_name  \\\n",
       "1411738                            2             0.050511                   1   \n",
       "1626145                            2             0.002103                   1   \n",
       "1962572                            2             0.007801                   1   \n",
       "3110779                            2             0.080208                   0   \n",
       "136847                             2             0.075211                   0   \n",
       "\n",
       "         applicant_race_name_1  applicant_ethnicity_name  agency_abbr  \\\n",
       "1411738                      4                         0            0   \n",
       "1626145                      4                         1            3   \n",
       "1962572                      4                         0            4   \n",
       "3110779                      4                         1            5   \n",
       "136847                       4                         1            4   \n",
       "\n",
       "         approved  pred  \n",
       "1411738         0     0  \n",
       "1626145         0     0  \n",
       "1962572         0     1  \n",
       "3110779         1     1  \n",
       "136847          1     1  \n",
       "\n",
       "[5 rows x 33 columns]"
      ]
     },
     "execution_count": 14,
     "metadata": {},
     "output_type": "execute_result"
    }
   ],
   "source": [
    "test_new.head()"
   ]
  },
  {
   "cell_type": "markdown",
   "metadata": {},
   "source": [
    "### Cross-Validation"
   ]
  },
  {
   "cell_type": "code",
   "execution_count": 6,
   "metadata": {},
   "outputs": [
    {
     "name": "stderr",
     "output_type": "stream",
     "text": [
      "C:\\Python36\\lib\\site-packages\\sklearn\\linear_model\\logistic.py:432: FutureWarning: Default solver will be changed to 'lbfgs' in 0.22. Specify a solver to silence this warning.\n",
      "  FutureWarning)\n",
      "C:\\Python36\\lib\\site-packages\\sklearn\\linear_model\\logistic.py:432: FutureWarning: Default solver will be changed to 'lbfgs' in 0.22. Specify a solver to silence this warning.\n",
      "  FutureWarning)\n",
      "C:\\Python36\\lib\\site-packages\\sklearn\\linear_model\\logistic.py:432: FutureWarning: Default solver will be changed to 'lbfgs' in 0.22. Specify a solver to silence this warning.\n",
      "  FutureWarning)\n",
      "C:\\Python36\\lib\\site-packages\\sklearn\\linear_model\\logistic.py:432: FutureWarning: Default solver will be changed to 'lbfgs' in 0.22. Specify a solver to silence this warning.\n",
      "  FutureWarning)\n",
      "C:\\Python36\\lib\\site-packages\\sklearn\\linear_model\\logistic.py:432: FutureWarning: Default solver will be changed to 'lbfgs' in 0.22. Specify a solver to silence this warning.\n",
      "  FutureWarning)\n"
     ]
    },
    {
     "name": "stdout",
     "output_type": "stream",
     "text": [
      "[0.96189439 0.96186615 0.96185484 0.96066683 0.96248356]\n"
     ]
    }
   ],
   "source": [
    "scores = cross_val_score(LogisticRegression(), x, y, cv=5, scoring='f1')\n",
    "print(scores)"
   ]
  },
  {
   "cell_type": "code",
   "execution_count": null,
   "metadata": {},
   "outputs": [],
   "source": []
  }
 ],
 "metadata": {
  "kernelspec": {
   "display_name": "Python 3",
   "language": "python",
   "name": "python3"
  },
  "language_info": {
   "codemirror_mode": {
    "name": "ipython",
    "version": 3
   },
   "file_extension": ".py",
   "mimetype": "text/x-python",
   "name": "python",
   "nbconvert_exporter": "python",
   "pygments_lexer": "ipython3",
   "version": "3.6.6"
  }
 },
 "nbformat": 4,
 "nbformat_minor": 2
}
